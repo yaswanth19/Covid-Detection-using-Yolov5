{
 "cells": [
  {
   "cell_type": "markdown",
   "metadata": {},
   "source": [
    "\n",
    "## 🖼️ What is YOLOv5?\n",
    "\n",
    "YOLO an acronym for 'You only look once', is an object detection algorithm that divides images into a grid system. Each cell in the grid is responsible for detecting objects within itself.\n",
    "\n",
    "[Ultralytics' YOLOv5](https://ultralytics.com/yolov5) (\"You Only Look Once\") model family enables real-time object detection with convolutional neural networks. \n",
    "\n",
    "## What is Weights and Biases?\n",
    "\n",
    "Weights and bias is platform for experiment tracking wchich is very helpful for debugging purpose and analyazing\n",
    "\n",
    "\n"
   ]
  },
  {
   "cell_type": "markdown",
   "metadata": {},
   "source": [
    "# ☀️ Imports and Setup\n",
    "\n",
    "Yolo expects our data to be in a certain format,That format is specified below\n",
    "\n",
    "```\n",
    "/parent_folder\n",
    "    /dataset\n",
    "         /images\n",
    "         /labels\n",
    "    /yolov5\n",
    "```\n",
    "\n",
    "* We thus will create a `/tmp` directory. <br>\n",
    "* Download YOLOv5 repository and pip install the required dependencies. <br>\n",
    "* Install the latest version of W&B and login with your wandb account. You can create your free W&B account [here](https://wandb.ai/site)."
   ]
  },
  {
   "cell_type": "code",
   "execution_count": 1,
   "metadata": {
    "execution": {
     "iopub.execute_input": "2021-11-25T11:11:19.563200Z",
     "iopub.status.busy": "2021-11-25T11:11:19.562881Z",
     "iopub.status.idle": "2021-11-25T11:11:20.230483Z",
     "shell.execute_reply": "2021-11-25T11:11:20.229410Z",
     "shell.execute_reply.started": "2021-11-25T11:11:19.563127Z"
    }
   },
   "outputs": [
    {
     "name": "stdout",
     "output_type": "stream",
     "text": [
      "/kaggle\n",
      "/kaggle/tmp\n"
     ]
    }
   ],
   "source": [
    "%cd ../\n",
    "!mkdir tmp\n",
    "%cd tmp\n"
   ]
  },
  {
   "cell_type": "code",
   "execution_count": 2,
   "metadata": {
    "execution": {
     "iopub.execute_input": "2021-11-25T11:11:20.232660Z",
     "iopub.status.busy": "2021-11-25T11:11:20.232290Z",
     "iopub.status.idle": "2021-11-25T11:11:20.241571Z",
     "shell.execute_reply": "2021-11-25T11:11:20.240493Z",
     "shell.execute_reply.started": "2021-11-25T11:11:20.232619Z"
    }
   },
   "outputs": [
    {
     "data": {
      "text/plain": [
       "'/kaggle/tmp'"
      ]
     },
     "execution_count": 2,
     "metadata": {},
     "output_type": "execute_result"
    }
   ],
   "source": [
    "pwd"
   ]
  },
  {
   "cell_type": "code",
   "execution_count": 3,
   "metadata": {
    "execution": {
     "iopub.execute_input": "2021-11-25T11:11:20.244208Z",
     "iopub.status.busy": "2021-11-25T11:11:20.243571Z",
     "iopub.status.idle": "2021-11-25T11:11:30.688320Z",
     "shell.execute_reply": "2021-11-25T11:11:30.687235Z",
     "shell.execute_reply.started": "2021-11-25T11:11:20.244167Z"
    }
   },
   "outputs": [
    {
     "name": "stdout",
     "output_type": "stream",
     "text": [
      "Cloning into 'yolov5'...\n",
      "remote: Enumerating objects: 10017, done.\u001b[K\n",
      "remote: Total 10017 (delta 0), reused 0 (delta 0), pack-reused 10017\u001b[K\n",
      "Receiving objects: 100% (10017/10017), 10.32 MiB | 31.00 MiB/s, done.\n",
      "Resolving deltas: 100% (6950/6950), done.\n",
      "/kaggle/tmp/yolov5\n",
      "Note: you may need to restart the kernel to use updated packages.\n",
      "/kaggle/tmp\n",
      "Setup complete. Using torch 1.7.0 (Tesla P100-PCIE-16GB)\n"
     ]
    }
   ],
   "source": [
    "# Download YOLOv5\n",
    "!git clone https://github.com/ultralytics/yolov5  # cloning the yolo repo\n",
    "%cd yolov5\n",
    "%pip install -qr requirements.txt  # install dependencies\n",
    "\n",
    "%cd ../"
   ]
  },
  {
   "cell_type": "markdown",
   "metadata": {},
   "source": [
    "# Importing libraries"
   ]
  },
  {
   "cell_type": "code",
   "execution_count": 4,
   "metadata": {
    "_cell_guid": "b1076dfc-b9ad-4769-8c92-a6c4dae69d19",
    "_uuid": "8f2839f25d086af736a60e9eeb907d3b93b6e0e5",
    "execution": {
     "iopub.execute_input": "2021-11-25T11:11:30.690478Z",
     "iopub.status.busy": "2021-11-25T11:11:30.690090Z",
     "iopub.status.idle": "2021-11-25T11:11:31.642489Z",
     "shell.execute_reply": "2021-11-25T11:11:31.641635Z",
     "shell.execute_reply.started": "2021-11-25T11:11:30.690414Z"
    }
   },
   "outputs": [],
   "source": [
    "\n",
    "import os\n",
    "\n",
    "import cv2\n",
    "import numpy as np\n",
    "import pandas as pd\n",
    "from tqdm import tqdm\n",
    "from shutil import copyfile\n",
    "import matplotlib.pyplot as plt\n",
    "from sklearn.model_selection import train_test_split\n",
    "\n"
   ]
  },
  {
   "cell_type": "markdown",
   "metadata": {},
   "source": [
    "# 🛠 Config"
   ]
  },
  {
   "cell_type": "code",
   "execution_count": 7,
   "metadata": {
    "execution": {
     "iopub.execute_input": "2021-11-25T11:11:45.317364Z",
     "iopub.status.busy": "2021-11-25T11:11:45.317042Z",
     "iopub.status.idle": "2021-11-25T11:11:45.321484Z",
     "shell.execute_reply": "2021-11-25T11:11:45.320349Z",
     "shell.execute_reply.started": "2021-11-25T11:11:45.317331Z"
    }
   },
   "outputs": [],
   "source": [
    "TRAIN_PATH = \"../input/siim-covid19-resized-to-256px-jpg/train\"\n",
    "IMG_SIZE = 256\n",
    "BATCH_SIZE = 16\n",
    "EPOCHS = 10"
   ]
  },
  {
   "cell_type": "markdown",
   "metadata": {},
   "source": [
    "# 🔨 Preparing the Dataset\n",
    "\n"
   ]
  },
  {
   "cell_type": "code",
   "execution_count": 8,
   "metadata": {
    "execution": {
     "iopub.execute_input": "2021-11-25T11:11:47.831150Z",
     "iopub.status.busy": "2021-11-25T11:11:47.830820Z",
     "iopub.status.idle": "2021-11-25T11:11:48.125743Z",
     "shell.execute_reply": "2021-11-25T11:11:48.124971Z",
     "shell.execute_reply.started": "2021-11-25T11:11:47.831119Z"
    }
   },
   "outputs": [
    {
     "data": {
      "text/html": [
       "<div>\n",
       "<style scoped>\n",
       "    .dataframe tbody tr th:only-of-type {\n",
       "        vertical-align: middle;\n",
       "    }\n",
       "\n",
       "    .dataframe tbody tr th {\n",
       "        vertical-align: top;\n",
       "    }\n",
       "\n",
       "    .dataframe thead th {\n",
       "        text-align: right;\n",
       "    }\n",
       "</style>\n",
       "<table border=\"1\" class=\"dataframe\">\n",
       "  <thead>\n",
       "    <tr style=\"text-align: right;\">\n",
       "      <th></th>\n",
       "      <th>id</th>\n",
       "      <th>boxes</th>\n",
       "      <th>label</th>\n",
       "      <th>StudyInstanceUID</th>\n",
       "      <th>path</th>\n",
       "      <th>image_level</th>\n",
       "    </tr>\n",
       "  </thead>\n",
       "  <tbody>\n",
       "    <tr>\n",
       "      <th>0</th>\n",
       "      <td>000a312787f2</td>\n",
       "      <td>[{'x': 789.28836, 'y': 582.43035, 'width': 102...</td>\n",
       "      <td>opacity 1 789.28836 582.43035 1815.94498 2499....</td>\n",
       "      <td>5776db0cec75</td>\n",
       "      <td>../input/siim-covid19-resized-to-256px-jpg/tra...</td>\n",
       "      <td>opacity</td>\n",
       "    </tr>\n",
       "    <tr>\n",
       "      <th>1</th>\n",
       "      <td>000c3a3f293f</td>\n",
       "      <td>NaN</td>\n",
       "      <td>none 1 0 0 1 1</td>\n",
       "      <td>ff0879eb20ed</td>\n",
       "      <td>../input/siim-covid19-resized-to-256px-jpg/tra...</td>\n",
       "      <td>none</td>\n",
       "    </tr>\n",
       "    <tr>\n",
       "      <th>2</th>\n",
       "      <td>0012ff7358bc</td>\n",
       "      <td>[{'x': 677.42216, 'y': 197.97662, 'width': 867...</td>\n",
       "      <td>opacity 1 677.42216 197.97662 1545.21983 1197....</td>\n",
       "      <td>9d514ce429a7</td>\n",
       "      <td>../input/siim-covid19-resized-to-256px-jpg/tra...</td>\n",
       "      <td>opacity</td>\n",
       "    </tr>\n",
       "    <tr>\n",
       "      <th>3</th>\n",
       "      <td>001398f4ff4f</td>\n",
       "      <td>[{'x': 2729, 'y': 2181.33331, 'width': 948.000...</td>\n",
       "      <td>opacity 1 2729 2181.33331 3677.00012 2785.33331</td>\n",
       "      <td>28dddc8559b2</td>\n",
       "      <td>../input/siim-covid19-resized-to-256px-jpg/tra...</td>\n",
       "      <td>opacity</td>\n",
       "    </tr>\n",
       "    <tr>\n",
       "      <th>4</th>\n",
       "      <td>001bd15d1891</td>\n",
       "      <td>[{'x': 623.23328, 'y': 1050, 'width': 714, 'he...</td>\n",
       "      <td>opacity 1 623.23328 1050 1337.23328 2156 opaci...</td>\n",
       "      <td>dfd9fdd85a3e</td>\n",
       "      <td>../input/siim-covid19-resized-to-256px-jpg/tra...</td>\n",
       "      <td>opacity</td>\n",
       "    </tr>\n",
       "  </tbody>\n",
       "</table>\n",
       "</div>"
      ],
      "text/plain": [
       "             id                                              boxes  \\\n",
       "0  000a312787f2  [{'x': 789.28836, 'y': 582.43035, 'width': 102...   \n",
       "1  000c3a3f293f                                                NaN   \n",
       "2  0012ff7358bc  [{'x': 677.42216, 'y': 197.97662, 'width': 867...   \n",
       "3  001398f4ff4f  [{'x': 2729, 'y': 2181.33331, 'width': 948.000...   \n",
       "4  001bd15d1891  [{'x': 623.23328, 'y': 1050, 'width': 714, 'he...   \n",
       "\n",
       "                                               label StudyInstanceUID  \\\n",
       "0  opacity 1 789.28836 582.43035 1815.94498 2499....     5776db0cec75   \n",
       "1                                     none 1 0 0 1 1     ff0879eb20ed   \n",
       "2  opacity 1 677.42216 197.97662 1545.21983 1197....     9d514ce429a7   \n",
       "3    opacity 1 2729 2181.33331 3677.00012 2785.33331     28dddc8559b2   \n",
       "4  opacity 1 623.23328 1050 1337.23328 2156 opaci...     dfd9fdd85a3e   \n",
       "\n",
       "                                                path image_level  \n",
       "0  ../input/siim-covid19-resized-to-256px-jpg/tra...     opacity  \n",
       "1  ../input/siim-covid19-resized-to-256px-jpg/tra...        none  \n",
       "2  ../input/siim-covid19-resized-to-256px-jpg/tra...     opacity  \n",
       "3  ../input/siim-covid19-resized-to-256px-jpg/tra...     opacity  \n",
       "4  ../input/siim-covid19-resized-to-256px-jpg/tra...     opacity  "
      ]
     },
     "execution_count": 8,
     "metadata": {},
     "output_type": "execute_result"
    }
   ],
   "source": [
    "df=pd.read_csv(\"../input/siim-covid19-detection/train_image_level.csv\")\n",
    "\n",
    "df['id'] = df.apply(lambda row: row.id.split('_')[0], axis=1)\n",
    "\n",
    "df['image_level'] = df.apply(lambda row: row.label.split(' ')[0], axis=1)\n",
    "\n",
    "df['path'] = df.apply(lambda row: TRAIN_PATH+row.id+'.jpg', axis=1)\n",
    "df.head(5)"
   ]
  },
  {
   "cell_type": "code",
   "execution_count": 9,
   "metadata": {
    "execution": {
     "iopub.execute_input": "2021-11-25T11:11:50.382959Z",
     "iopub.status.busy": "2021-11-25T11:11:50.382616Z",
     "iopub.status.idle": "2021-11-25T11:11:50.416863Z",
     "shell.execute_reply": "2021-11-25T11:11:50.415895Z",
     "shell.execute_reply.started": "2021-11-25T11:11:50.382930Z"
    }
   },
   "outputs": [
    {
     "data": {
      "text/html": [
       "<div>\n",
       "<style scoped>\n",
       "    .dataframe tbody tr th:only-of-type {\n",
       "        vertical-align: middle;\n",
       "    }\n",
       "\n",
       "    .dataframe tbody tr th {\n",
       "        vertical-align: top;\n",
       "    }\n",
       "\n",
       "    .dataframe thead th {\n",
       "        text-align: right;\n",
       "    }\n",
       "</style>\n",
       "<table border=\"1\" class=\"dataframe\">\n",
       "  <thead>\n",
       "    <tr style=\"text-align: right;\">\n",
       "      <th></th>\n",
       "      <th>id</th>\n",
       "      <th>dim0</th>\n",
       "      <th>dim1</th>\n",
       "    </tr>\n",
       "  </thead>\n",
       "  <tbody>\n",
       "    <tr>\n",
       "      <th>1263</th>\n",
       "      <td>d8ba599611e5</td>\n",
       "      <td>2336</td>\n",
       "      <td>2836</td>\n",
       "    </tr>\n",
       "    <tr>\n",
       "      <th>1264</th>\n",
       "      <td>29b23a11d1e4</td>\n",
       "      <td>3488</td>\n",
       "      <td>4256</td>\n",
       "    </tr>\n",
       "  </tbody>\n",
       "</table>\n",
       "</div>"
      ],
      "text/plain": [
       "                id  dim0  dim1\n",
       "1263  d8ba599611e5  2336  2836\n",
       "1264  29b23a11d1e4  3488  4256"
      ]
     },
     "execution_count": 9,
     "metadata": {},
     "output_type": "execute_result"
    }
   ],
   "source": [
    "# Load meta.csv file and making a training dataframe from that\n",
    "meta_df = pd.read_csv('../input/siim-covid19-resized-to-256px-jpg/meta.csv')\n",
    "train_meta_df = meta_df.loc[meta_df.split == 'train']\n",
    "train_meta_df = train_meta_df.drop('split', axis=1)\n",
    "train_meta_df.columns = ['id', 'dim0', 'dim1']\n",
    "\n",
    "train_meta_df.head(2)"
   ]
  },
  {
   "cell_type": "code",
   "execution_count": 10,
   "metadata": {
    "execution": {
     "iopub.execute_input": "2021-11-25T11:11:51.683107Z",
     "iopub.status.busy": "2021-11-25T11:11:51.682774Z",
     "iopub.status.idle": "2021-11-25T11:11:51.708130Z",
     "shell.execute_reply": "2021-11-25T11:11:51.707374Z",
     "shell.execute_reply.started": "2021-11-25T11:11:51.683076Z"
    }
   },
   "outputs": [
    {
     "data": {
      "text/html": [
       "<div>\n",
       "<style scoped>\n",
       "    .dataframe tbody tr th:only-of-type {\n",
       "        vertical-align: middle;\n",
       "    }\n",
       "\n",
       "    .dataframe tbody tr th {\n",
       "        vertical-align: top;\n",
       "    }\n",
       "\n",
       "    .dataframe thead th {\n",
       "        text-align: right;\n",
       "    }\n",
       "</style>\n",
       "<table border=\"1\" class=\"dataframe\">\n",
       "  <thead>\n",
       "    <tr style=\"text-align: right;\">\n",
       "      <th></th>\n",
       "      <th>id</th>\n",
       "      <th>boxes</th>\n",
       "      <th>label</th>\n",
       "      <th>StudyInstanceUID</th>\n",
       "      <th>path</th>\n",
       "      <th>image_level</th>\n",
       "      <th>dim0</th>\n",
       "      <th>dim1</th>\n",
       "    </tr>\n",
       "  </thead>\n",
       "  <tbody>\n",
       "    <tr>\n",
       "      <th>0</th>\n",
       "      <td>000a312787f2</td>\n",
       "      <td>[{'x': 789.28836, 'y': 582.43035, 'width': 102...</td>\n",
       "      <td>opacity 1 789.28836 582.43035 1815.94498 2499....</td>\n",
       "      <td>5776db0cec75</td>\n",
       "      <td>../input/siim-covid19-resized-to-256px-jpg/tra...</td>\n",
       "      <td>opacity</td>\n",
       "      <td>3488</td>\n",
       "      <td>4256</td>\n",
       "    </tr>\n",
       "    <tr>\n",
       "      <th>1</th>\n",
       "      <td>000c3a3f293f</td>\n",
       "      <td>NaN</td>\n",
       "      <td>none 1 0 0 1 1</td>\n",
       "      <td>ff0879eb20ed</td>\n",
       "      <td>../input/siim-covid19-resized-to-256px-jpg/tra...</td>\n",
       "      <td>none</td>\n",
       "      <td>2320</td>\n",
       "      <td>2832</td>\n",
       "    </tr>\n",
       "  </tbody>\n",
       "</table>\n",
       "</div>"
      ],
      "text/plain": [
       "             id                                              boxes  \\\n",
       "0  000a312787f2  [{'x': 789.28836, 'y': 582.43035, 'width': 102...   \n",
       "1  000c3a3f293f                                                NaN   \n",
       "\n",
       "                                               label StudyInstanceUID  \\\n",
       "0  opacity 1 789.28836 582.43035 1815.94498 2499....     5776db0cec75   \n",
       "1                                     none 1 0 0 1 1     ff0879eb20ed   \n",
       "\n",
       "                                                path image_level  dim0  dim1  \n",
       "0  ../input/siim-covid19-resized-to-256px-jpg/tra...     opacity  3488  4256  \n",
       "1  ../input/siim-covid19-resized-to-256px-jpg/tra...        none  2320  2832  "
      ]
     },
     "execution_count": 10,
     "metadata": {},
     "output_type": "execute_result"
    }
   ],
   "source": [
    "#Merging the train file from meta.csv to our original df\n",
    "df = df.merge(train_meta_df, on='id',how=\"left\")\n",
    "df.head(2)"
   ]
  },
  {
   "cell_type": "markdown",
   "metadata": {},
   "source": [
    "## 🍘 Train-validation split"
   ]
  },
  {
   "cell_type": "code",
   "execution_count": 11,
   "metadata": {
    "_kg_hide-input": true,
    "_kg_hide-output": true,
    "execution": {
     "iopub.execute_input": "2021-11-25T11:11:56.148010Z",
     "iopub.status.busy": "2021-11-25T11:11:56.147650Z",
     "iopub.status.idle": "2021-11-25T11:11:56.182711Z",
     "shell.execute_reply": "2021-11-25T11:11:56.181567Z",
     "shell.execute_reply.started": "2021-11-25T11:11:56.147980Z"
    }
   },
   "outputs": [
    {
     "name": "stderr",
     "output_type": "stream",
     "text": [
      "/opt/conda/lib/python3.7/site-packages/pandas/core/indexing.py:1596: SettingWithCopyWarning: \n",
      "A value is trying to be set on a copy of a slice from a DataFrame.\n",
      "Try using .loc[row_indexer,col_indexer] = value instead\n",
      "\n",
      "See the caveats in the documentation: https://pandas.pydata.org/pandas-docs/stable/user_guide/indexing.html#returning-a-view-versus-a-copy\n",
      "  self.obj[key] = _infer_fill_value(value)\n",
      "/opt/conda/lib/python3.7/site-packages/pandas/core/indexing.py:1763: SettingWithCopyWarning: \n",
      "A value is trying to be set on a copy of a slice from a DataFrame.\n",
      "Try using .loc[row_indexer,col_indexer] = value instead\n",
      "\n",
      "See the caveats in the documentation: https://pandas.pydata.org/pandas-docs/stable/user_guide/indexing.html#returning-a-view-versus-a-copy\n",
      "  isetter(loc, value)\n"
     ]
    }
   ],
   "source": [
    "# Create train and validation split.\n",
    "train_df, valid_df = train_test_split(df, test_size=0.2, random_state=42, stratify=df.image_level.values)\n",
    "\n",
    "train_df.loc[:, 'split'] = 'train'\n",
    "valid_df.loc[:, 'split'] = 'valid'\n",
    "\n",
    "df = pd.concat([train_df, valid_df]).reset_index(drop=True)"
   ]
  },
  {
   "cell_type": "code",
   "execution_count": 12,
   "metadata": {
    "execution": {
     "iopub.execute_input": "2021-11-25T11:11:59.689344Z",
     "iopub.status.busy": "2021-11-25T11:11:59.688975Z",
     "iopub.status.idle": "2021-11-25T11:11:59.693895Z",
     "shell.execute_reply": "2021-11-25T11:11:59.692797Z",
     "shell.execute_reply.started": "2021-11-25T11:11:59.689310Z"
    }
   },
   "outputs": [
    {
     "name": "stdout",
     "output_type": "stream",
     "text": [
      "Size of dataset: 6334, training images: 5067. validation images: 1267\n"
     ]
    }
   ],
   "source": [
    "print(f'Size of dataset: {len(df)}, training images: {len(train_df)}. validation images: {len(valid_df)}')"
   ]
  },
  {
   "cell_type": "markdown",
   "metadata": {},
   "source": [
    "## 🍚 Prepare Required Folder Structure\n",
    "\n",
    "The required folder structure for the dataset directory is: \n",
    "\n",
    "```\n",
    "/parent_folder\n",
    "    /dataset\n",
    "         /images\n",
    "             /train\n",
    "             /val\n",
    "         /labels\n",
    "             /train\n",
    "             /val\n",
    "    /yolov5\n",
    "```"
   ]
  },
  {
   "cell_type": "code",
   "execution_count": 13,
   "metadata": {
    "execution": {
     "iopub.execute_input": "2021-11-25T11:12:10.036654Z",
     "iopub.status.busy": "2021-11-25T11:12:10.036275Z",
     "iopub.status.idle": "2021-11-25T11:12:10.702903Z",
     "shell.execute_reply": "2021-11-25T11:12:10.701995Z",
     "shell.execute_reply.started": "2021-11-25T11:12:10.036619Z"
    }
   },
   "outputs": [
    {
     "name": "stdout",
     "output_type": "stream",
     "text": [
      "train  valid\n"
     ]
    }
   ],
   "source": [
    "os.makedirs('tmp/covid/images/train', exist_ok=True)\n",
    "os.makedirs('tmp/covid/images/valid', exist_ok=True)\n",
    "\n",
    "os.makedirs('tmp/covid/labels/train', exist_ok=True)\n",
    "os.makedirs('tmp/covid/labels/valid', exist_ok=True)\n",
    "\n",
    "! ls tmp/covid/images"
   ]
  },
  {
   "cell_type": "code",
   "execution_count": 15,
   "metadata": {
    "execution": {
     "iopub.execute_input": "2021-11-25T11:12:18.648710Z",
     "iopub.status.busy": "2021-11-25T11:12:18.648294Z",
     "iopub.status.idle": "2021-11-25T11:12:58.593919Z",
     "shell.execute_reply": "2021-11-25T11:12:58.592884Z",
     "shell.execute_reply.started": "2021-11-25T11:12:18.648676Z"
    }
   },
   "outputs": [
    {
     "name": "stderr",
     "output_type": "stream",
     "text": [
      "100%|██████████| 6334/6334 [00:39<00:00, 158.63it/s]\n"
     ]
    }
   ],
   "source": [
    "# Moving the images to respective folders\n",
    "for i in tqdm(range(len(df))):\n",
    "    row = df.loc[i]\n",
    "    if row.split == 'train':\n",
    "        copyfile(f'../input/siim-covid19-resized-to-256px-jpg/train/{row.id}.jpg', f'tmp/covid/images/train/{row.id}.jpg')\n",
    "    else:\n",
    "        copyfile(f'../input/siim-covid19-resized-to-256px-jpg/train/{row.id}.jpg', f'tmp/covid/images/valid/{row.id}.jpg')"
   ]
  },
  {
   "cell_type": "markdown",
   "metadata": {},
   "source": [
    "## 🍜 Create `.YAML` file\n",
    "\n",
    "The `data.yaml`, is the dataset configuration file that contains the directory path of train and valid images which help the yolov5 algorithm to process the images\n"
   ]
  },
  {
   "cell_type": "code",
   "execution_count": 28,
   "metadata": {
    "execution": {
     "iopub.execute_input": "2021-11-25T11:15:56.768393Z",
     "iopub.status.busy": "2021-11-25T11:15:56.768046Z",
     "iopub.status.idle": "2021-11-25T11:15:57.427679Z",
     "shell.execute_reply": "2021-11-25T11:15:57.426713Z",
     "shell.execute_reply.started": "2021-11-25T11:15:56.768359Z"
    }
   },
   "outputs": [
    {
     "name": "stdout",
     "output_type": "stream",
     "text": [
      "cat: yolov5/data/data.yaml: No such file or directory\n"
     ]
    }
   ],
   "source": [
    "import yaml\n",
    "\n",
    "data_yaml = dict(\n",
    "    train = '/kaggle/tmp/tmp/covid/images/train',\n",
    "    val = '/kaggle/tmp/tmp/covid/images/valid',\n",
    "    nc = 2,\n",
    "    names = ['none', 'opacity']\n",
    ")\n",
    "\n",
    "\n",
    "with open('/kaggle/tmp/yolov5/data/data.yaml', 'w') as outfile:\n",
    "    yaml.dump(data_yaml, outfile, default_flow_style=True)\n",
    "    \n",
    "%cat yolov5/data/data.yaml"
   ]
  },
  {
   "cell_type": "markdown",
   "metadata": {},
   "source": [
    "## 🍮 Prepare Bounding Box Coordinated for YOLOv5\n",
    "\n",
    "For every image with **bounding box(es)** a `.txt` file with the same name as the image will be created in the format shown below:\n",
    "\n",
    "* One row per object. <br>\n",
    "* Each row is class `x_center y_center width height format`. <br>\n",
    "* Box coordinates must be in normalized xywh format (from 0 - 1). We can normalize by the boxes in pixels by dividing `x_center` and `width` by image width, and `y_center` and `height` by image height. <br>\n",
    "* Class numbers are zero-indexed (start from 0). <br>\n",
    "\n",
    "> 📍 Note: We don't have to remove the images without bounding boxes from the training or validation sets. "
   ]
  },
  {
   "cell_type": "code",
   "execution_count": 19,
   "metadata": {
    "execution": {
     "iopub.execute_input": "2021-11-25T11:13:20.979223Z",
     "iopub.status.busy": "2021-11-25T11:13:20.978884Z",
     "iopub.status.idle": "2021-11-25T11:13:20.989586Z",
     "shell.execute_reply": "2021-11-25T11:13:20.988730Z",
     "shell.execute_reply.started": "2021-11-25T11:13:20.979189Z"
    }
   },
   "outputs": [],
   "source": [
    "#get_bbox  fuctions gives us the co-ordinates of the bounding boxes\n",
    "def get_bbox(row):\n",
    "    bboxes = []\n",
    "    bbox = []\n",
    "    for i, l in enumerate(row.label.split(' ')):\n",
    "        if (i % 6 == 0) | (i % 6 == 1):\n",
    "            continue\n",
    "        bbox.append(float(l))\n",
    "        if i % 6 == 5:\n",
    "            bboxes.append(bbox)\n",
    "            bbox = []  \n",
    "            \n",
    "    return bboxes\n",
    "\n",
    "# Scale the bounding boxes according to the size of the resized image. \n",
    "def scale_bbox(row, bboxes):\n",
    "    # Get scaling factor\n",
    "    scale_x = IMG_SIZE/row.dim1\n",
    "    scale_y = IMG_SIZE/row.dim0\n",
    "    \n",
    "    scaled_bboxes = []\n",
    "    for bbox in bboxes:\n",
    "        x = int(np.round(bbox[0]*scale_x, 4))\n",
    "        y = int(np.round(bbox[1]*scale_y, 4))\n",
    "        x1 = int(np.round(bbox[2]*(scale_x), 4))\n",
    "        y1= int(np.round(bbox[3]*scale_y, 4))\n",
    "\n",
    "        scaled_bboxes.append([x, y, x1, y1]) # xmin, ymin, xmax, ymax\n",
    "        \n",
    "    return scaled_bboxes\n",
    "\n",
    "# Convert the bounding boxes in YOLO format.\n",
    "def get_yolo_format_bbox(img_w, img_h, bboxes):\n",
    "    yolo_boxes = []\n",
    "    for bbox in bboxes:\n",
    "        w = bbox[2] - bbox[0] # xmax - xmin\n",
    "        h = bbox[3] - bbox[1] # ymax - ymin\n",
    "        xc = bbox[0] + int(np.round(w/2)) # xmin + width/2\n",
    "        yc = bbox[1] + int(np.round(h/2)) # ymin + height/2\n",
    "        \n",
    "        yolo_boxes.append([xc/img_w, yc/img_h, w/img_w, h/img_h]) # x_center y_center width height\n",
    "    \n",
    "    return yolo_boxes"
   ]
  },
  {
   "cell_type": "code",
   "execution_count": 20,
   "metadata": {
    "execution": {
     "iopub.execute_input": "2021-11-25T11:13:22.188237Z",
     "iopub.status.busy": "2021-11-25T11:13:22.187908Z",
     "iopub.status.idle": "2021-11-25T11:13:24.897318Z",
     "shell.execute_reply": "2021-11-25T11:13:24.896490Z",
     "shell.execute_reply.started": "2021-11-25T11:13:22.188207Z"
    }
   },
   "outputs": [
    {
     "name": "stderr",
     "output_type": "stream",
     "text": [
      "100%|██████████| 6334/6334 [00:02<00:00, 2346.88it/s]\n"
     ]
    }
   ],
   "source": [
    "# Prepare the txt files for bounding box\n",
    "for i in tqdm(range(len(df))):\n",
    "    row = df.loc[i]\n",
    "    img_id = row.id\n",
    "    split = row.split\n",
    "    label = row.image_level\n",
    "    \n",
    "    if row.split=='train':\n",
    "        file_name = f'tmp/covid/labels/train/{row.id}.txt'\n",
    "    else:\n",
    "        file_name = f'tmp/covid/labels/valid/{row.id}.txt'\n",
    "        \n",
    "    \n",
    "    if label=='opacity':\n",
    "        # Now we are going to use the above created functions to prepare the .txt file in yolo format\n",
    "        bboxes = get_bbox(row)\n",
    "        scale_bboxes = scale_bbox(row, bboxes)\n",
    "        yolo_bboxes = get_yolo_format_bbox(IMG_SIZE, IMG_SIZE, scale_bboxes)\n",
    "        \n",
    "        with open(file_name, 'w') as f:\n",
    "            for bbox in yolo_bboxes:\n",
    "                bbox = [1]+bbox\n",
    "                bbox = [str(i) for i in bbox]\n",
    "                bbox = ' '.join(bbox)\n",
    "                f.write(bbox)\n",
    "                f.write('\\n')"
   ]
  },
  {
   "cell_type": "markdown",
   "metadata": {},
   "source": [
    "# 🚅 Train with W&B\n",
    "\n"
   ]
  },
  {
   "cell_type": "code",
   "execution_count": 21,
   "metadata": {
    "execution": {
     "iopub.execute_input": "2021-11-25T11:13:27.064534Z",
     "iopub.status.busy": "2021-11-25T11:13:27.064192Z",
     "iopub.status.idle": "2021-11-25T11:13:27.078420Z",
     "shell.execute_reply": "2021-11-25T11:13:27.077515Z",
     "shell.execute_reply.started": "2021-11-25T11:13:27.064500Z"
    }
   },
   "outputs": [
    {
     "name": "stdout",
     "output_type": "stream",
     "text": [
      "/kaggle/tmp/yolov5\n"
     ]
    }
   ],
   "source": [
    "%cd yolov5"
   ]
  },
  {
   "cell_type": "markdown",
   "metadata": {},
   "source": [
    "### Parameters for training\n",
    "\n",
    "```\n",
    "--img {IMG_SIZE} \\ # Input image size.\n",
    "--batch {BATCH_SIZE} \\ # Batch size\n",
    "--epochs {EPOCHS} \\ # Number of epochs\n",
    "--data data.yaml \\ # Configuration file\n",
    "--weights yolov5s.pt \\ # Model name\n",
    "--save_period 1\\ # Save model after interval\n",
    "--project kaggle-siim-covid # W&B project name\n",
    "```"
   ]
  },
  {
   "cell_type": "code",
   "execution_count": 22,
   "metadata": {
    "execution": {
     "iopub.execute_input": "2021-11-25T11:13:31.643425Z",
     "iopub.status.busy": "2021-11-25T11:13:31.643106Z",
     "iopub.status.idle": "2021-11-25T11:14:20.799837Z",
     "shell.execute_reply": "2021-11-25T11:14:20.798625Z",
     "shell.execute_reply.started": "2021-11-25T11:13:31.643396Z"
    }
   },
   "outputs": [
    {
     "name": "stdout",
     "output_type": "stream",
     "text": [
      "Note: you may need to restart the kernel to use updated packages.\n"
     ]
    },
    {
     "name": "stderr",
     "output_type": "stream",
     "text": [
      "\u001b[34m\u001b[1mwandb\u001b[0m: You can find your API key in your browser here: https://wandb.ai/authorize\n"
     ]
    },
    {
     "name": "stdin",
     "output_type": "stream",
     "text": [
      "\u001b[34m\u001b[1mwandb\u001b[0m: Paste an API key from your profile and hit enter:  ········································\n"
     ]
    },
    {
     "name": "stderr",
     "output_type": "stream",
     "text": [
      "\u001b[34m\u001b[1mwandb\u001b[0m: Appending key for api.wandb.ai to your netrc file: /root/.netrc\n"
     ]
    },
    {
     "data": {
      "text/plain": [
       "True"
      ]
     },
     "execution_count": 22,
     "metadata": {},
     "output_type": "execute_result"
    }
   ],
   "source": [
    "# Weights and bias login for my account and for this experiment\n",
    "%pip install -q wandb\n",
    "import wandb\n",
    "wandb.login()"
   ]
  },
  {
   "cell_type": "code",
   "execution_count": 25,
   "metadata": {
    "execution": {
     "iopub.execute_input": "2021-11-25T11:14:50.937522Z",
     "iopub.status.busy": "2021-11-25T11:14:50.937148Z",
     "iopub.status.idle": "2021-11-25T11:14:50.942950Z",
     "shell.execute_reply": "2021-11-25T11:14:50.942143Z",
     "shell.execute_reply.started": "2021-11-25T11:14:50.937482Z"
    }
   },
   "outputs": [
    {
     "data": {
      "text/plain": [
       "'/kaggle/tmp/yolov5'"
      ]
     },
     "execution_count": 25,
     "metadata": {},
     "output_type": "execute_result"
    }
   ],
   "source": [
    "pwd"
   ]
  },
  {
   "cell_type": "code",
   "execution_count": 29,
   "metadata": {
    "execution": {
     "iopub.execute_input": "2021-11-25T11:16:07.824385Z",
     "iopub.status.busy": "2021-11-25T11:16:07.824017Z",
     "iopub.status.idle": "2021-11-25T11:34:11.941090Z",
     "shell.execute_reply": "2021-11-25T11:34:11.940131Z",
     "shell.execute_reply.started": "2021-11-25T11:16:07.824349Z"
    }
   },
   "outputs": [
    {
     "name": "stdout",
     "output_type": "stream",
     "text": [
      "Downloading https://ultralytics.com/assets/Arial.ttf to /root/.config/Ultralytics/Arial.ttf...\n",
      "\u001b[34m\u001b[1mgithub: \u001b[0mup to date with https://github.com/ultralytics/yolov5 ✅\n",
      "2021-11-25 11:16:12.482675: I tensorflow/stream_executor/platform/default/dso_loader.cc:49] Successfully opened dynamic library libcudart.so.11.0\n",
      "\u001b[34m\u001b[1mwandb\u001b[0m: Currently logged in as: \u001b[33myaswanth19\u001b[0m (use `wandb login --relogin` to force relogin)\n",
      "\u001b[34m\u001b[1mwandb\u001b[0m: wandb version 0.12.7 is available!  To upgrade, please run:\n",
      "\u001b[34m\u001b[1mwandb\u001b[0m:  $ pip install wandb --upgrade\n",
      "2021-11-25 11:16:17.351713: I tensorflow/stream_executor/platform/default/dso_loader.cc:49] Successfully opened dynamic library libcudart.so.11.0\n",
      "2021-11-25 11:16:17.354093: I tensorflow/stream_executor/platform/default/dso_loader.cc:49] Successfully opened dynamic library libcudart.so.11.0\n",
      "\u001b[34m\u001b[1mwandb\u001b[0m: Tracking run with wandb version 0.10.26\n",
      "\u001b[34m\u001b[1mwandb\u001b[0m: Syncing run \u001b[33mdark-waterfall-3\u001b[0m\n",
      "\u001b[34m\u001b[1mwandb\u001b[0m: ⭐️ View project at \u001b[34m\u001b[4mhttps://wandb.ai/yaswanth19/kaggle-siim-covid\u001b[0m\n",
      "\u001b[34m\u001b[1mwandb\u001b[0m: 🚀 View run at \u001b[34m\u001b[4mhttps://wandb.ai/yaswanth19/kaggle-siim-covid/runs/3u2ji00n\u001b[0m\n",
      "\u001b[34m\u001b[1mwandb\u001b[0m: Run data is saved locally in /kaggle/tmp/yolov5/wandb/run-20211125_111616-3u2ji00n\n",
      "\u001b[34m\u001b[1mwandb\u001b[0m: Run `wandb offline` to turn off syncing.\n",
      "\n",
      "Downloading https://github.com/ultralytics/yolov5/releases/download/v6.0/yolov5s.pt to yolov5s.pt...\n",
      "100%|██████████████████████████████████████| 14.0M/14.0M [00:00<00:00, 47.3MB/s]\n",
      "\n",
      "\u001b[34m\u001b[1mtrain: \u001b[0mScanning '/kaggle/tmp/tmp/covid/labels/train' images and labels...3435 fo\u001b[0m\n",
      "\u001b[34m\u001b[1mval: \u001b[0mScanning '/kaggle/tmp/tmp/covid/labels/valid' images and labels...859 found\u001b[0m\n",
      "       0/9    0.581G   0.08437   0.01892  0.009125        35       256: 100%|███\n",
      "               Class     Images     Labels          P          R     mAP@.5 mAP@\n",
      "       1/9    0.625G   0.06487   0.01843  0.001023        16       256: 100%|███\n",
      "               Class     Images     Labels          P          R     mAP@.5 mAP@\n",
      "       2/9    0.625G   0.06165   0.01756 0.0007649        14       256: 100%|███\n",
      "               Class     Images     Labels          P          R     mAP@.5 mAP@\n",
      "       3/9    0.625G   0.05922   0.01755 0.0005089        20       256: 100%|███\n",
      "               Class     Images     Labels          P          R     mAP@.5 mAP@\n",
      "       4/9    0.627G   0.05807   0.01719 0.0003572        19       256: 100%|███\n",
      "               Class     Images     Labels          P          R     mAP@.5 mAP@\n",
      "       5/9    0.627G   0.05672   0.01711 0.0002517        24       256: 100%|███\n",
      "               Class     Images     Labels          P          R     mAP@.5 mAP@\n",
      "       6/9    0.627G   0.05557   0.01713 0.0001986        30       256: 100%|███\n",
      "               Class     Images     Labels          P          R     mAP@.5 mAP@\n",
      "       7/9    0.627G   0.05486   0.01691 0.0001478        20       256: 100%|███\n",
      "               Class     Images     Labels          P          R     mAP@.5 mAP@\n",
      "       8/9    0.627G   0.05404   0.01704 0.0001254        24       256: 100%|███\n",
      "               Class     Images     Labels          P          R     mAP@.5 mAP@\n",
      "       9/9    0.627G   0.05327   0.01684 0.0001048        34       256: 100%|███\n",
      "               Class     Images     Labels          P          R     mAP@.5 mAP@\n",
      "Optimizer stripped from kaggle-siim-covid/exp/weights/last.pt, 14.3MB\n",
      "Optimizer stripped from kaggle-siim-covid/exp/weights/best.pt, 14.3MB\n",
      "               Class     Images     Labels          P          R     mAP@.5 mAP@\n",
      "\n",
      "\u001b[34m\u001b[1mwandb\u001b[0m: Waiting for W&B process to finish, PID 318\n",
      "\u001b[34m\u001b[1mwandb\u001b[0m: Program ended successfully.\n",
      "\u001b[34m\u001b[1mwandb\u001b[0m:                                                                                \n",
      "\u001b[34m\u001b[1mwandb\u001b[0m: Find user logs for this run at: /kaggle/tmp/yolov5/wandb/run-20211125_111616-3u2ji00n/logs/debug.log\n",
      "\u001b[34m\u001b[1mwandb\u001b[0m: Find internal logs for this run at: /kaggle/tmp/yolov5/wandb/run-20211125_111616-3u2ji00n/logs/debug-internal.log\n",
      "\u001b[34m\u001b[1mwandb\u001b[0m: Run summary:\n",
      "\u001b[34m\u001b[1mwandb\u001b[0m:         train/box_loss 0.05327\n",
      "\u001b[34m\u001b[1mwandb\u001b[0m:         train/obj_loss 0.01684\n",
      "\u001b[34m\u001b[1mwandb\u001b[0m:         train/cls_loss 0.0001\n",
      "\u001b[34m\u001b[1mwandb\u001b[0m:      metrics/precision 0.5175\n",
      "\u001b[34m\u001b[1mwandb\u001b[0m:         metrics/recall 0.49937\n",
      "\u001b[34m\u001b[1mwandb\u001b[0m:        metrics/mAP_0.5 0.46028\n",
      "\u001b[34m\u001b[1mwandb\u001b[0m:   metrics/mAP_0.5:0.95 0.13974\n",
      "\u001b[34m\u001b[1mwandb\u001b[0m:           val/box_loss 0.0568\n",
      "\u001b[34m\u001b[1mwandb\u001b[0m:           val/obj_loss 0.00824\n",
      "\u001b[34m\u001b[1mwandb\u001b[0m:           val/cls_loss 9e-05\n",
      "\u001b[34m\u001b[1mwandb\u001b[0m:                  x/lr0 0.00186\n",
      "\u001b[34m\u001b[1mwandb\u001b[0m:                  x/lr1 0.00186\n",
      "\u001b[34m\u001b[1mwandb\u001b[0m:                  x/lr2 0.00186\n",
      "\u001b[34m\u001b[1mwandb\u001b[0m:               _runtime 1069\n",
      "\u001b[34m\u001b[1mwandb\u001b[0m:             _timestamp 1637840045\n",
      "\u001b[34m\u001b[1mwandb\u001b[0m:                  _step 10\n",
      "\u001b[34m\u001b[1mwandb\u001b[0m: Run history:\n",
      "\u001b[34m\u001b[1mwandb\u001b[0m:         train/box_loss █▄▃▂▂▂▂▁▁▁\n",
      "\u001b[34m\u001b[1mwandb\u001b[0m:         train/obj_loss █▆▃▃▂▂▂▁▂▁\n",
      "\u001b[34m\u001b[1mwandb\u001b[0m:         train/cls_loss █▂▂▁▁▁▁▁▁▁\n",
      "\u001b[34m\u001b[1mwandb\u001b[0m:      metrics/precision ▁▄▅▇▆▇▆▅█▇\n",
      "\u001b[34m\u001b[1mwandb\u001b[0m:         metrics/recall ▁▂▄▅▄▆▅▇▆█\n",
      "\u001b[34m\u001b[1mwandb\u001b[0m:        metrics/mAP_0.5 ▁▃▅▇▅▇▆▆██\n",
      "\u001b[34m\u001b[1mwandb\u001b[0m:   metrics/mAP_0.5:0.95 ▁▃▅▆▅▇▅▆▇█\n",
      "\u001b[34m\u001b[1mwandb\u001b[0m:           val/box_loss █▆▄▃▄▂▃▂▂▁\n",
      "\u001b[34m\u001b[1mwandb\u001b[0m:           val/obj_loss █▆▇▃▄▂▃▃▁▁\n",
      "\u001b[34m\u001b[1mwandb\u001b[0m:           val/cls_loss █▅▃▂▂▂▁▁▁▁\n",
      "\u001b[34m\u001b[1mwandb\u001b[0m:                  x/lr0 ▂▅█▇▇▆▅▃▂▁\n",
      "\u001b[34m\u001b[1mwandb\u001b[0m:                  x/lr1 ▂▅█▇▇▆▅▃▂▁\n",
      "\u001b[34m\u001b[1mwandb\u001b[0m:                  x/lr2 █▅▂▂▂▂▁▁▁▁\n",
      "\u001b[34m\u001b[1mwandb\u001b[0m:               _runtime ▁▂▃▃▄▅▆▆▇██\n",
      "\u001b[34m\u001b[1mwandb\u001b[0m:             _timestamp ▁▂▃▃▄▅▆▆▇██\n",
      "\u001b[34m\u001b[1mwandb\u001b[0m:                  _step ▁▂▂▃▄▅▅▆▇▇█\n",
      "\u001b[34m\u001b[1mwandb\u001b[0m: \n",
      "\u001b[34m\u001b[1mwandb\u001b[0m: Synced 5 W&B file(s), 337 media file(s), 10 artifact file(s) and 0 other file(s)\n",
      "\u001b[34m\u001b[1mwandb\u001b[0m: \n",
      "\u001b[34m\u001b[1mwandb\u001b[0m: Synced \u001b[33mdark-waterfall-3\u001b[0m: \u001b[34mhttps://wandb.ai/yaswanth19/kaggle-siim-covid/runs/3u2ji00n\u001b[0m\n",
      "Exception ignored in: <function _MultiProcessingDataLoaderIter.__del__ at 0x7ffa4e4178c0>\n",
      "Traceback (most recent call last):\n",
      "  File \"/opt/conda/lib/python3.7/site-packages/torch/utils/data/dataloader.py\", line 1203, in __del__\n",
      "  File \"/opt/conda/lib/python3.7/site-packages/torch/utils/data/dataloader.py\", line 1144, in _shutdown_workers\n",
      "AttributeError: 'NoneType' object has no attribute 'python_exit_status'\n",
      "Exception ignored in: <function _MultiProcessingDataLoaderIter.__del__ at 0x7ffa4e4178c0>\n",
      "Traceback (most recent call last):\n",
      "  File \"/opt/conda/lib/python3.7/site-packages/torch/utils/data/dataloader.py\", line 1203, in __del__\n",
      "  File \"/opt/conda/lib/python3.7/site-packages/torch/utils/data/dataloader.py\", line 1144, in _shutdown_workers\n",
      "AttributeError: 'NoneType' object has no attribute 'python_exit_status'\n"
     ]
    }
   ],
   "source": [
    "!python train.py --img {IMG_SIZE} \\\n",
    "                 --batch {BATCH_SIZE} \\\n",
    "                 --epochs {EPOCHS} \\\n",
    "                 --data data.yaml \\\n",
    "                 --weights yolov5s.pt \\\n",
    "                 --save-period 1\\\n",
    "                 --project kaggle-siim-covid"
   ]
  },
  {
   "cell_type": "code",
   "execution_count": 33,
   "metadata": {
    "execution": {
     "iopub.execute_input": "2021-11-25T11:39:43.543394Z",
     "iopub.status.busy": "2021-11-25T11:39:43.543057Z",
     "iopub.status.idle": "2021-11-25T11:39:43.548797Z",
     "shell.execute_reply": "2021-11-25T11:39:43.546663Z",
     "shell.execute_reply.started": "2021-11-25T11:39:43.543362Z"
    }
   },
   "outputs": [],
   "source": [
    "TEST_PATH = '/kaggle/input/siim-covid19-resized-to-256px-jpg/test/' # absolute path"
   ]
  },
  {
   "cell_type": "code",
   "execution_count": 31,
   "metadata": {
    "execution": {
     "iopub.execute_input": "2021-11-25T11:38:40.750492Z",
     "iopub.status.busy": "2021-11-25T11:38:40.750148Z",
     "iopub.status.idle": "2021-11-25T11:38:40.754682Z",
     "shell.execute_reply": "2021-11-25T11:38:40.753618Z",
     "shell.execute_reply.started": "2021-11-25T11:38:40.750436Z"
    }
   },
   "outputs": [],
   "source": [
    "MODEL_PATH = 'kaggle-siim-covid/exp/weights/best.pt'"
   ]
  },
  {
   "cell_type": "markdown",
   "metadata": {},
   "source": [
    "### Parameters for Inference\n",
    "\n",
    "```\n",
    "--weights {MODEL_PATH} \\ # path to the best model.\n",
    "--source {TEST_PATH} \\ # absolute path to the test images.\n",
    "--img {IMG_SIZE} \\ # Size of image\n",
    "--conf 0.281 \\ # Confidence threshold (default is 0.25)\n",
    "--iou-thres 0.5 \\ # IOU threshold (default is 0.45)\n",
    "--max-det 3 \\ # Number of detections per image (default is 1000) \n",
    "--save-txt \\ # Save predicted bounding box coordinates as txt files\n",
    "--save-conf # Save the confidence of prediction for each bounding box\n",
    "```"
   ]
  },
  {
   "cell_type": "code",
   "execution_count": 34,
   "metadata": {
    "_kg_hide-output": true,
    "execution": {
     "iopub.execute_input": "2021-11-25T11:39:47.975796Z",
     "iopub.status.busy": "2021-11-25T11:39:47.975428Z",
     "iopub.status.idle": "2021-11-25T11:40:31.631668Z",
     "shell.execute_reply": "2021-11-25T11:40:31.630507Z",
     "shell.execute_reply.started": "2021-11-25T11:39:47.975762Z"
    },
    "scrolled": true
   },
   "outputs": [],
   "source": [
    "!python detect.py --source {TEST_PATH} \\\n",
    "                  --img {IMG_SIZE} \\\n",
    "                  --conf 0.281 \\\n",
    "                  --iou-thres 0.5 \\\n",
    "                  --max-det 3 \\\n",
    "                  --save-txt \\\n",
    "                  --save-conf"
   ]
  },
  {
   "cell_type": "code",
   "execution_count": 54,
   "metadata": {
    "execution": {
     "iopub.execute_input": "2021-11-25T11:49:48.134885Z",
     "iopub.status.busy": "2021-11-25T11:49:48.134536Z",
     "iopub.status.idle": "2021-11-25T11:49:48.141120Z",
     "shell.execute_reply": "2021-11-25T11:49:48.140273Z",
     "shell.execute_reply.started": "2021-11-25T11:49:48.134852Z"
    }
   },
   "outputs": [
    {
     "data": {
      "text/plain": [
       "'/kaggle/tmp/yolov5'"
      ]
     },
     "execution_count": 54,
     "metadata": {},
     "output_type": "execute_result"
    }
   ],
   "source": [
    "pwd"
   ]
  },
  {
   "cell_type": "code",
   "execution_count": 55,
   "metadata": {
    "execution": {
     "iopub.execute_input": "2021-11-25T11:49:56.469958Z",
     "iopub.status.busy": "2021-11-25T11:49:56.469521Z",
     "iopub.status.idle": "2021-11-25T11:49:56.758564Z",
     "shell.execute_reply": "2021-11-25T11:49:56.757517Z",
     "shell.execute_reply.started": "2021-11-25T11:49:56.469918Z"
    },
    "scrolled": true
   },
   "outputs": [
    {
     "data": {
      "text/plain": [
       "<matplotlib.image.AxesImage at 0x7f3af4f4b210>"
      ]
     },
     "execution_count": 55,
     "metadata": {},
     "output_type": "execute_result"
    },
    {
     "data": {
      "image/png": "[encoded data removed]",
      "text/plain": [
       "<Figure size 432x288 with 1 Axes>"
      ]
     },
     "metadata": {
      "needs_background": "light"
     },
     "output_type": "display_data"
    }
   ],
   "source": [
    "#plotting our predictions\n",
    "plt.imshow(plt.imread('/kaggle/tmp/yolov5/kaggle-siim-covid/exp/train_batch0.jpg'))"
   ]
  },
  {
   "cell_type": "markdown",
   "metadata": {},
   "source": [
    "### The predictions are stored in weights and bias for this experiment(.txt files),which you can download it from there"
   ]
  }
 ],
 "metadata": {
  "kernelspec": {
   "display_name": "Python 3",
   "language": "python",
   "name": "python3"
  },
  "language_info": {
   "codemirror_mode": {
    "name": "ipython",
    "version": 3
   },
   "file_extension": ".py",
   "mimetype": "text/x-python",
   "name": "python",
   "nbconvert_exporter": "python",
   "pygments_lexer": "ipython3",
   "version": "3.8.8"
  }
 },
 "nbformat": 4,
 "nbformat_minor": 4
}
